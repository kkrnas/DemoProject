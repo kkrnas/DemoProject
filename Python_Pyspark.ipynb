{
 "cells": [
  {
   "cell_type": "code",
   "execution_count": 1,
   "id": "bf78e97f-0aea-4fbe-b08c-a5bcd2300442",
   "metadata": {},
   "outputs": [
    {
     "name": "stdout",
     "output_type": "stream",
     "text": [
      "Collecting pyspark\n",
      "  Downloading pyspark-3.5.1.tar.gz (317.0 MB)\n",
      "\u001b[2K     \u001b[90m━━━━━━━━━━━━━━━━━━━━━━━━━━━━━━━━━━━━━━━\u001b[0m \u001b[32m317.0/317.0 MB\u001b[0m \u001b[31m5.0 MB/s\u001b[0m eta \u001b[36m0:00:00\u001b[0m00:01\u001b[0m00:01\u001b[0m\n",
      "\u001b[?25h  Preparing metadata (setup.py) ... \u001b[?25ldone\n",
      "\u001b[?25hCollecting py4j==0.10.9.7 (from pyspark)\n",
      "  Downloading py4j-0.10.9.7-py2.py3-none-any.whl.metadata (1.5 kB)\n",
      "Downloading py4j-0.10.9.7-py2.py3-none-any.whl (200 kB)\n",
      "\u001b[2K   \u001b[90m━━━━━━━━━━━━━━━━━━━━━━━━━━━━━━━━━━━━━━━━\u001b[0m \u001b[32m200.5/200.5 kB\u001b[0m \u001b[31m12.9 MB/s\u001b[0m eta \u001b[36m0:00:00\u001b[0m\n",
      "\u001b[?25hBuilding wheels for collected packages: pyspark\n",
      "  Building wheel for pyspark (setup.py) ... \u001b[?25ldone\n",
      "\u001b[?25h  Created wheel for pyspark: filename=pyspark-3.5.1-py2.py3-none-any.whl size=317488491 sha256=4662b023540d93e22139c13375c0fc9084c5ed3d59eddf53a14322afeb7fa0bb\n",
      "  Stored in directory: /Users/karthikraghunathkumar/Library/Caches/pip/wheels/95/13/41/f7f135ee114175605fb4f0a89e7389f3742aa6c1e1a5bcb657\n",
      "Successfully built pyspark\n",
      "Installing collected packages: py4j, pyspark\n",
      "Successfully installed py4j-0.10.9.7 pyspark-3.5.1\n"
     ]
    }
   ],
   "source": [
    "!pip install pyspark"
   ]
  },
  {
   "cell_type": "code",
   "execution_count": 15,
   "id": "dca07dac-4f2d-451c-8542-4ee8f15a8b1d",
   "metadata": {},
   "outputs": [],
   "source": [
    "from pyspark.sql import SparkSession\n"
   ]
  },
  {
   "cell_type": "code",
   "execution_count": 20,
   "id": "baaa0c5a-d6ea-4df4-aeb0-57aec70e3bf4",
   "metadata": {},
   "outputs": [
    {
     "name": "stderr",
     "output_type": "stream",
     "text": [
      "24/06/27 13:56:54 WARN Utils: Your hostname, karthikraghunaths-Laptop.local resolves to a loopback address: 127.0.0.1; using 192.168.29.212 instead (on interface en0)\n",
      "24/06/27 13:56:54 WARN Utils: Set SPARK_LOCAL_IP if you need to bind to another address\n",
      "Setting default log level to \"WARN\".\n",
      "To adjust logging level use sc.setLogLevel(newLevel). For SparkR, use setLogLevel(newLevel).\n",
      "24/06/27 13:56:54 WARN NativeCodeLoader: Unable to load native-hadoop library for your platform... using builtin-java classes where applicable\n"
     ]
    }
   ],
   "source": [
    "spark = SparkSession \\\n",
    "    .builder \\\n",
    "    .appName(\"Python Spark SQL basic example\") \\\n",
    "    .config(\"spark.some.config.option\", \"some-value\") \\\n",
    "    .getOrCreate()"
   ]
  },
  {
   "cell_type": "code",
   "execution_count": 26,
   "id": "1a4f6a09-8474-484d-8096-931360b1c90f",
   "metadata": {},
   "outputs": [
    {
     "name": "stdout",
     "output_type": "stream",
     "text": [
      "+-----+-------+---------------+------+-------+------+-------------+--------------+\n",
      "|Brand|  Model|          Color|Memory|Storage|Rating|Selling Price|Original Price|\n",
      "+-----+-------+---------------+------+-------+------+-------------+--------------+\n",
      "| OPPO|    A53|Moonlight Black|  4 GB|  64 GB|   4.5|        11990|         15990|\n",
      "| OPPO|    A53|     Mint Cream|  4 GB|  64 GB|   4.5|        11990|         15990|\n",
      "| OPPO|    A53|Moonlight Black|  6 GB| 128 GB|   4.3|        13990|         17990|\n",
      "| OPPO|    A53|     Mint Cream|  6 GB| 128 GB|   4.3|        13990|         17990|\n",
      "| OPPO|    A53| Electric Black|  4 GB|  64 GB|   4.5|        11990|         15990|\n",
      "| OPPO|    A53| Electric Black|  6 GB| 128 GB|   4.3|        13990|         17990|\n",
      "| OPPO|    A12|      Deep Blue|  4 GB|  64 GB|   4.4|        10490|         11990|\n",
      "| OPPO|    A12|          Black|  3 GB|  32 GB|   4.4|         9490|         10990|\n",
      "| OPPO|    A12|           Blue|  3 GB|  32 GB|   4.4|         9490|         10990|\n",
      "| OPPO|    A12| Flowing Silver|  3 GB|  32 GB|   4.4|         9490|         10990|\n",
      "| OPPO|    A12|      Deep Blue|  3 GB|  32 GB|   4.4|         9490|         10990|\n",
      "| OPPO|    A12| Flowing Silver|  4 GB|  64 GB|   4.4|        10490|         11990|\n",
      "| OPPO|A53s 5G|   Crystal Blue|  6 GB| 128 GB|   4.3|        15990|         16990|\n",
      "| OPPO|A53s 5G|      Ink Black|  6 GB| 128 GB|   4.3|        15990|         16990|\n",
      "| OPPO|    A12|           Blue|  4 GB|  64 GB|   4.4|        10490|         11990|\n",
      "| OPPO|A53s 5G|   Crystal Blue|  8 GB| 128 GB|   4.3|        17990|         18990|\n",
      "| OPPO|A53s 5G|      Ink Black|  8 GB| 128 GB|   4.3|        17990|         18990|\n",
      "| OPPO|    A33|Moonlight Black|  3 GB|  32 GB|   4.3|        10490|         12990|\n",
      "| OPPO|    A31|     Lake Green|  4 GB|  64 GB|   4.3|        11960|         12990|\n",
      "| OPPO|    A31|  Mystery Black|  4 GB|  64 GB|   4.3|        11779|         11919|\n",
      "+-----+-------+---------------+------+-------+------+-------------+--------------+\n",
      "only showing top 20 rows\n",
      "\n"
     ]
    }
   ],
   "source": [
    "# spark is an existing SparkSession\n",
    "df = spark.read.csv(\"Content/Flipkart_mobile_brands_scraped_data.csv\", header=True, escape=\"\\\"\")\n",
    "# Displays the content of the DataFrame to stdout\n",
    "df.show()\n",
    "# +----+-------+\n",
    "# | age|   name|\n",
    "# +----+-------+\n",
    "# |null|Michael|\n",
    "# |  30|   Andy|\n",
    "# |  19| Justin|\n",
    "# +----+-------+"
   ]
  },
  {
   "cell_type": "code",
   "execution_count": 28,
   "id": "e737b4bf-a7dd-4516-8b1c-140dacf66b87",
   "metadata": {},
   "outputs": [
    {
     "name": "stdout",
     "output_type": "stream",
     "text": [
      "+-----+-----+---------------+------+-------+------+-------------+--------------+\n",
      "|Brand|Model|Color          |Memory|Storage|Rating|Selling Price|Original Price|\n",
      "+-----+-----+---------------+------+-------+------+-------------+--------------+\n",
      "|OPPO |A53  |Moonlight Black|4 GB  |64 GB  |4.5   |11990        |15990         |\n",
      "|OPPO |A53  |Mint Cream     |4 GB  |64 GB  |4.5   |11990        |15990         |\n",
      "|OPPO |A53  |Moonlight Black|6 GB  |128 GB |4.3   |13990        |17990         |\n",
      "|OPPO |A53  |Mint Cream     |6 GB  |128 GB |4.3   |13990        |17990         |\n",
      "|OPPO |A53  |Electric Black |4 GB  |64 GB  |4.5   |11990        |15990         |\n",
      "+-----+-----+---------------+------+-------+------+-------------+--------------+\n",
      "only showing top 5 rows\n",
      "\n"
     ]
    }
   ],
   "source": [
    "df.show(5,0)"
   ]
  },
  {
   "cell_type": "code",
   "execution_count": 30,
   "id": "b7d9141c-ca23-4ae0-8ef9-cd0af6d711a6",
   "metadata": {},
   "outputs": [
    {
     "data": {
      "text/plain": [
       "2647"
      ]
     },
     "execution_count": 30,
     "metadata": {},
     "output_type": "execute_result"
    }
   ],
   "source": [
    "df.count()"
   ]
  },
  {
   "cell_type": "code",
   "execution_count": 32,
   "id": "6d8a0e80-8b22-4e4a-be7e-5230a32756cf",
   "metadata": {},
   "outputs": [
    {
     "data": {
      "text/plain": [
       "774"
      ]
     },
     "execution_count": 32,
     "metadata": {},
     "output_type": "execute_result"
    }
   ],
   "source": [
    "df.select('Model').distinct().count()"
   ]
  },
  {
   "cell_type": "code",
   "execution_count": 34,
   "id": "486a6736-74f2-4495-9c2e-1187c8a2e7a0",
   "metadata": {},
   "outputs": [],
   "source": [
    "from pyspark.sql.functions import *\n",
    "from pyspark.sql.types import *"
   ]
  },
  {
   "cell_type": "code",
   "execution_count": 42,
   "id": "6f6aca44-053c-478a-99fb-3987f0c9cc87",
   "metadata": {},
   "outputs": [
    {
     "name": "stdout",
     "output_type": "stream",
     "text": [
      "+------------+-----+\n",
      "|       Brand|Count|\n",
      "+------------+-----+\n",
      "|     SAMSUNG|  206|\n",
      "|       Nokia|   82|\n",
      "|        OPPO|   73|\n",
      "|          LG|   64|\n",
      "|      GIONEE|   61|\n",
      "|      Lenovo|   55|\n",
      "|      realme|   54|\n",
      "|    Motorola|   50|\n",
      "|      Xiaomi|   42|\n",
      "|        ASUS|   31|\n",
      "|        vivo|   25|\n",
      "|       Apple|   25|\n",
      "|Google Pixel|    9|\n",
      "|        POCO|    5|\n",
      "|         HTC|    2|\n",
      "|        IQOO|    1|\n",
      "+------------+-----+\n",
      "\n"
     ]
    }
   ],
   "source": [
    "df.groupBy('Brand').agg(countDistinct('Model').alias('Count')).orderBy(desc('Count')).show()"
   ]
  },
  {
   "cell_type": "code",
   "execution_count": 46,
   "id": "c8082a79-ac7f-4611-98eb-45374f69ded5",
   "metadata": {},
   "outputs": [
    {
     "name": "stdout",
     "output_type": "stream",
     "text": [
      "Current time is time.struct_time(tm_year=2024, tm_mon=6, tm_mday=27, tm_hour=14, tm_min=32, tm_sec=24, tm_wday=3, tm_yday=179, tm_isdst=0)\n"
     ]
    }
   ],
   "source": [
    "import time\n",
    "\n",
    "currenttime= time.localtime(time.time())\n",
    "print ('Current time is', currenttime)"
   ]
  },
  {
   "cell_type": "code",
   "execution_count": null,
   "id": "dae9d508-c7b0-49ad-b4f7-e9fbfba0585c",
   "metadata": {},
   "outputs": [],
   "source": []
  }
 ],
 "metadata": {
  "kernelspec": {
   "display_name": "Python 3 (ipykernel)",
   "language": "python",
   "name": "python3"
  },
  "language_info": {
   "codemirror_mode": {
    "name": "ipython",
    "version": 3
   },
   "file_extension": ".py",
   "mimetype": "text/x-python",
   "name": "python",
   "nbconvert_exporter": "python",
   "pygments_lexer": "ipython3",
   "version": "3.11.7"
  }
 },
 "nbformat": 4,
 "nbformat_minor": 5
}
