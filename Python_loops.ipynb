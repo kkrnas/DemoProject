{
 "cells": [
  {
   "cell_type": "code",
   "execution_count": 19,
   "id": "81dc0059-7ceb-4746-8b90-cb8589746b8a",
   "metadata": {},
   "outputs": [
    {
     "data": {
      "text/plain": [
       "{1, 2, 3, 5, 6}"
      ]
     },
     "execution_count": 19,
     "metadata": {},
     "output_type": "execute_result"
    }
   ],
   "source": [
    "{1,2,6,5,2,3,3}"
   ]
  },
  {
   "cell_type": "code",
   "execution_count": 21,
   "id": "45e93b57-6afe-40d0-a5f9-8044afbbc9a3",
   "metadata": {},
   "outputs": [],
   "source": [
    "s={1,2,3}"
   ]
  },
  {
   "cell_type": "code",
   "execution_count": 23,
   "id": "ff039e03-9c20-4412-bb91-23cc4bfd5f8c",
   "metadata": {},
   "outputs": [],
   "source": [
    "s.add(4)"
   ]
  },
  {
   "cell_type": "code",
   "execution_count": 16,
   "id": "30cac4e1-b657-44f4-bf10-680695d21409",
   "metadata": {},
   "outputs": [],
   "source": [
    "s1 = [1,2,3,4,5]"
   ]
  },
  {
   "cell_type": "code",
   "execution_count": 27,
   "id": "3ac94b34-f8ae-484a-a7c2-3338bf7c5526",
   "metadata": {},
   "outputs": [
    {
     "data": {
      "text/plain": [
       "False"
      ]
     },
     "execution_count": 27,
     "metadata": {},
     "output_type": "execute_result"
    }
   ],
   "source": [
    "1>2"
   ]
  },
  {
   "cell_type": "code",
   "execution_count": 31,
   "id": "39db6100-7661-40a5-828a-a12ca184146b",
   "metadata": {},
   "outputs": [
    {
     "data": {
      "text/plain": [
       "True"
      ]
     },
     "execution_count": 31,
     "metadata": {},
     "output_type": "execute_result"
    }
   ],
   "source": [
    "s==s"
   ]
  },
  {
   "cell_type": "code",
   "execution_count": 6,
   "id": "8281a1d8-8350-48bf-a8ab-1a8cae2ae0bd",
   "metadata": {},
   "outputs": [
    {
     "name": "stdout",
     "output_type": "stream",
     "text": [
      "i is : 5\n",
      "i is : 6.8\n",
      "i is : 8.6\n",
      "i is : 10.4\n",
      "i is : 12.200000000000001\n",
      "i is : 14.000000000000002\n",
      "i is : 15.800000000000002\n",
      "i is : 17.6\n",
      "i is : 19.400000000000002\n",
      "i is : 21.200000000000003\n",
      "i is : 23.000000000000004\n",
      "i is : 24.800000000000004\n"
     ]
    }
   ],
   "source": [
    "i = 5\n",
    "while i<26:\n",
    "    print(\"i is : {}\".format(i))\n",
    "    i=i+1.8\n",
    "    "
   ]
  },
  {
   "cell_type": "code",
   "execution_count": 12,
   "id": "a5010650-9664-43f1-9c11-330b3750a883",
   "metadata": {},
   "outputs": [
    {
     "data": {
      "text/plain": [
       "[3, 4, 5, 6, 7, 8, 9]"
      ]
     },
     "execution_count": 12,
     "metadata": {},
     "output_type": "execute_result"
    }
   ],
   "source": [
    "list(range(3,10))"
   ]
  },
  {
   "cell_type": "code",
   "execution_count": 26,
   "id": "08cb3edb-a282-410a-ac26-8e2a774975d1",
   "metadata": {},
   "outputs": [
    {
     "name": "stdout",
     "output_type": "stream",
     "text": [
      "0\n",
      "1\n",
      "2\n",
      "3\n"
     ]
    }
   ],
   "source": [
    "for x1 in range(0,4):\n",
    "    print(x1)"
   ]
  },
  {
   "cell_type": "code",
   "execution_count": 28,
   "id": "b4059ce5-b831-48f2-a53f-3b014ee01e46",
   "metadata": {},
   "outputs": [],
   "source": [
    " x =[2,3,4,5,6,7]"
   ]
  },
  {
   "cell_type": "code",
   "execution_count": 30,
   "id": "019fd407-fc76-4782-975e-449108a06e9f",
   "metadata": {},
   "outputs": [],
   "source": [
    "outp=[]"
   ]
  },
  {
   "cell_type": "code",
   "execution_count": 36,
   "id": "b75f91ac-d750-4cbe-8f2f-840c62417038",
   "metadata": {},
   "outputs": [],
   "source": [
    "for num in x:\n",
    "    outp.append(num**2)"
   ]
  },
  {
   "cell_type": "code",
   "execution_count": 38,
   "id": "9bb63640-16e1-4ef5-8933-736cc4f8c5b7",
   "metadata": {},
   "outputs": [
    {
     "name": "stdout",
     "output_type": "stream",
     "text": [
      "[4, 9, 16, 25, 36, 49]\n"
     ]
    }
   ],
   "source": [
    "print(outp)"
   ]
  },
  {
   "cell_type": "code",
   "execution_count": 40,
   "id": "5b38b16b-f0b7-435a-87e7-08ac696c7037",
   "metadata": {},
   "outputs": [],
   "source": [
    "out =[num**3 for num in x]"
   ]
  },
  {
   "cell_type": "code",
   "execution_count": 42,
   "id": "5ae28736-6de2-4215-ac33-ac97f2bfd739",
   "metadata": {},
   "outputs": [
    {
     "data": {
      "text/plain": [
       "[8, 27, 64, 125, 216, 343]"
      ]
     },
     "execution_count": 42,
     "metadata": {},
     "output_type": "execute_result"
    }
   ],
   "source": [
    "out "
   ]
  },
  {
   "cell_type": "code",
   "execution_count": 56,
   "id": "92badd7f-a461-4c86-b204-b7a28215b597",
   "metadata": {},
   "outputs": [
    {
     "data": {
      "text/plain": [
       "9"
      ]
     },
     "execution_count": 56,
     "metadata": {},
     "output_type": "execute_result"
    }
   ],
   "source": [
    "def sqr(num):\n",
    "    return num**2\n",
    "\n",
    "\"\"\"\n",
    "This function return square of the number\n",
    "Welcome Here\n",
    "\n",
    "\"\"\"\n",
    "\n",
    "sqr(3)"
   ]
  },
  {
   "cell_type": "code",
   "execution_count": 60,
   "id": "56467149-7c57-4f00-abcb-8d68c012444c",
   "metadata": {},
   "outputs": [
    {
     "data": {
      "text/plain": [
       "4"
      ]
     },
     "execution_count": 60,
     "metadata": {},
     "output_type": "execute_result"
    }
   ],
   "source": [
    "sqr(2)"
   ]
  },
  {
   "cell_type": "code",
   "execution_count": 68,
   "id": "010bf701-9d76-4e3f-8ff2-869298470dac",
   "metadata": {},
   "outputs": [
    {
     "data": {
      "text/plain": [
       "[16, 81, 256, 625, 1296, 2401]"
      ]
     },
     "execution_count": 68,
     "metadata": {},
     "output_type": "execute_result"
    }
   ],
   "source": [
    "dell= list(map(sqr,outp))\n",
    "dell"
   ]
  },
  {
   "cell_type": "code",
   "execution_count": 70,
   "id": "a23e0554-18e3-4170-bc23-f9c18b12c470",
   "metadata": {},
   "outputs": [
    {
     "name": "stdout",
     "output_type": "stream",
     "text": [
      "Channels:\n",
      " - defaults\n",
      "Platform: osx-arm64\n",
      "Collecting package metadata (repodata.json): done\n",
      "Solving environment: done\n",
      "\n",
      "# All requested packages already installed.\n",
      "\n",
      "\n",
      "Note: you may need to restart the kernel to use updated packages.\n"
     ]
    }
   ],
   "source": [
    "conda install numpy\n"
   ]
  },
  {
   "cell_type": "code",
   "execution_count": 72,
   "id": "a7980152-a44c-45b6-9773-0e5941c64c7b",
   "metadata": {},
   "outputs": [
    {
     "name": "stdout",
     "output_type": "stream",
     "text": [
      "Requirement already satisfied: numpy in /opt/anaconda3/lib/python3.11/site-packages (1.26.4)\n",
      "Note: you may need to restart the kernel to use updated packages.\n"
     ]
    }
   ],
   "source": [
    "pip install numpy"
   ]
  },
  {
   "cell_type": "code",
   "execution_count": null,
   "id": "19a7c674-b8c8-425d-97ec-93f57ac0460d",
   "metadata": {},
   "outputs": [],
   "source": []
  }
 ],
 "metadata": {
  "kernelspec": {
   "display_name": "Python 3 (ipykernel)",
   "language": "python",
   "name": "python3"
  },
  "language_info": {
   "codemirror_mode": {
    "name": "ipython",
    "version": 3
   },
   "file_extension": ".py",
   "mimetype": "text/x-python",
   "name": "python",
   "nbconvert_exporter": "python",
   "pygments_lexer": "ipython3",
   "version": "3.11.7"
  }
 },
 "nbformat": 4,
 "nbformat_minor": 5
}
