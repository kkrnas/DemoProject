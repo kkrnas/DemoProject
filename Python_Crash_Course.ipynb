{
 "cells": [
  {
   "cell_type": "code",
   "execution_count": 2,
   "id": "09b6fd51-0c86-4c5b-9799-964a8e776788",
   "metadata": {},
   "outputs": [
    {
     "data": {
      "text/plain": [
       "2"
      ]
     },
     "execution_count": 2,
     "metadata": {},
     "output_type": "execute_result"
    }
   ],
   "source": [
    "1+1"
   ]
  },
  {
   "cell_type": "code",
   "execution_count": 4,
   "id": "10cf4f88-89f7-48ed-a993-36fd3cd75c11",
   "metadata": {},
   "outputs": [
    {
     "data": {
      "text/plain": [
       "0"
      ]
     },
     "execution_count": 4,
     "metadata": {},
     "output_type": "execute_result"
    }
   ],
   "source": [
    "1-1"
   ]
  },
  {
   "cell_type": "code",
   "execution_count": 6,
   "id": "d98a59b5-7298-439a-940b-18b23872f215",
   "metadata": {},
   "outputs": [
    {
     "data": {
      "text/plain": [
       "-1"
      ]
     },
     "execution_count": 6,
     "metadata": {},
     "output_type": "execute_result"
    }
   ],
   "source": [
    "1-2\n"
   ]
  },
  {
   "cell_type": "code",
   "execution_count": 8,
   "id": "909ba60c-232b-428e-ac9e-54ade3ed1f1f",
   "metadata": {},
   "outputs": [
    {
     "data": {
      "text/plain": [
       "0.262"
      ]
     },
     "execution_count": 8,
     "metadata": {},
     "output_type": "execute_result"
    }
   ],
   "source": [
    "1.0-0.738"
   ]
  },
  {
   "cell_type": "code",
   "execution_count": 10,
   "id": "7513a705-8875-456a-8bf5-6f726be1ae86",
   "metadata": {},
   "outputs": [
    {
     "data": {
      "text/plain": [
       "3"
      ]
     },
     "execution_count": 10,
     "metadata": {},
     "output_type": "execute_result"
    }
   ],
   "source": [
    "1*3\n"
   ]
  },
  {
   "cell_type": "code",
   "execution_count": 12,
   "id": "ddc7ff4f-3c56-41b6-b51a-e9a3531b8acf",
   "metadata": {},
   "outputs": [
    {
     "data": {
      "text/plain": [
       "0.5"
      ]
     },
     "execution_count": 12,
     "metadata": {},
     "output_type": "execute_result"
    }
   ],
   "source": [
    "1/2"
   ]
  },
  {
   "cell_type": "code",
   "execution_count": 14,
   "id": "a3e46185-04d9-4364-9787-329dde2b1d0f",
   "metadata": {},
   "outputs": [
    {
     "data": {
      "text/plain": [
       "2"
      ]
     },
     "execution_count": 14,
     "metadata": {},
     "output_type": "execute_result"
    }
   ],
   "source": [
    "2%3"
   ]
  },
  {
   "cell_type": "code",
   "execution_count": 16,
   "id": "0987d6d3-43e0-478e-8373-0789f3d0912c",
   "metadata": {},
   "outputs": [
    {
     "data": {
      "text/plain": [
       "32"
      ]
     },
     "execution_count": 16,
     "metadata": {},
     "output_type": "execute_result"
    }
   ],
   "source": [
    "2**5"
   ]
  },
  {
   "cell_type": "code",
   "execution_count": 20,
   "id": "7e14430e-e44c-422b-91cf-6be27d27706b",
   "metadata": {},
   "outputs": [
    {
     "data": {
      "text/plain": [
       "30"
      ]
     },
     "execution_count": 20,
     "metadata": {},
     "output_type": "execute_result"
    }
   ],
   "source": [
    "(2+3)*5+5"
   ]
  },
  {
   "cell_type": "code",
   "execution_count": 30,
   "id": "2de8ce6b-e9d2-4342-8445-b64771108452",
   "metadata": {},
   "outputs": [
    {
     "data": {
      "text/plain": [
       "15"
      ]
     },
     "execution_count": 30,
     "metadata": {},
     "output_type": "execute_result"
    }
   ],
   "source": [
    "40%25"
   ]
  },
  {
   "cell_type": "code",
   "execution_count": 32,
   "id": "f2d0e695-4927-4155-9205-385b02bb4f9d",
   "metadata": {},
   "outputs": [
    {
     "data": {
      "text/plain": [
       "23"
      ]
     },
     "execution_count": 32,
     "metadata": {},
     "output_type": "execute_result"
    }
   ],
   "source": [
    "var = 23\n",
    "var\n"
   ]
  },
  {
   "cell_type": "code",
   "execution_count": 34,
   "id": "b4b30e97-97cf-4d97-bee6-3d8d40c8f14e",
   "metadata": {},
   "outputs": [
    {
     "name": "stdout",
     "output_type": "stream",
     "text": [
      "23\n"
     ]
    }
   ],
   "source": [
    "print(var)"
   ]
  },
  {
   "cell_type": "code",
   "execution_count": 42,
   "id": "7f6387c6-8b03-49ed-a9d0-a1bc66a71777",
   "metadata": {},
   "outputs": [
    {
     "name": "stdout",
     "output_type": "stream",
     "text": [
      "2 4dasf\n"
     ]
    }
   ],
   "source": [
    "x=2\n",
    "y=\"4dasf\"\n",
    "print(x,y)"
   ]
  },
  {
   "cell_type": "code",
   "execution_count": 49,
   "id": "5ac4c924-4c9c-48ec-b84a-5dc5eb2582f4",
   "metadata": {},
   "outputs": [
    {
     "data": {
      "text/plain": [
       "2323"
      ]
     },
     "execution_count": 49,
     "metadata": {},
     "output_type": "execute_result"
    }
   ],
   "source": [
    "name_var =2323\n",
    "name_var\n"
   ]
  },
  {
   "cell_type": "code",
   "execution_count": 51,
   "id": "6cb03880-7800-454a-ad44-9e05a5cf6877",
   "metadata": {},
   "outputs": [],
   "source": [
    "# comment coming here"
   ]
  },
  {
   "cell_type": "code",
   "execution_count": 53,
   "id": "d4b0933a-03e4-4096-8251-0e0ce5de7a8b",
   "metadata": {},
   "outputs": [
    {
     "data": {
      "text/plain": [
       "\"I can't go\""
      ]
     },
     "execution_count": 53,
     "metadata": {},
     "output_type": "execute_result"
    }
   ],
   "source": [
    "\"I can't go\""
   ]
  },
  {
   "cell_type": "code",
   "execution_count": 55,
   "id": "0486aef1-c8d7-4dbb-96d1-63d7fe972d16",
   "metadata": {},
   "outputs": [
    {
     "data": {
      "text/plain": [
       "'i can\"t go'"
      ]
     },
     "execution_count": 55,
     "metadata": {},
     "output_type": "execute_result"
    }
   ],
   "source": [
    "'i can\"t go'"
   ]
  },
  {
   "cell_type": "code",
   "execution_count": 57,
   "id": "9193fbeb-c396-481d-81bd-7cd3906a1f26",
   "metadata": {},
   "outputs": [
    {
     "data": {
      "text/plain": [
       "'helllo'"
      ]
     },
     "execution_count": 57,
     "metadata": {},
     "output_type": "execute_result"
    }
   ],
   "source": [
    "x = 'helllo'\n",
    "x"
   ]
  },
  {
   "cell_type": "code",
   "execution_count": 59,
   "id": "8d5c8ada-59fd-4914-a5a2-f336baff0e3b",
   "metadata": {},
   "outputs": [
    {
     "name": "stdout",
     "output_type": "stream",
     "text": [
      "helllo\n"
     ]
    }
   ],
   "source": [
    "print(x)"
   ]
  },
  {
   "cell_type": "code",
   "execution_count": 61,
   "id": "828c709d-777a-4519-abbd-1eed8e0681da",
   "metadata": {},
   "outputs": [
    {
     "data": {
      "text/plain": [
       "'my number is 12 and my name is sa'"
      ]
     },
     "execution_count": 61,
     "metadata": {},
     "output_type": "execute_result"
    }
   ],
   "source": [
    "num =12\n",
    "name ='sa'\n",
    "'my number is {} and my name is {}'.format(num,name)"
   ]
  },
  {
   "cell_type": "code",
   "execution_count": 95,
   "id": "eb2a982b-dbf5-405f-9cac-afd80026cc81",
   "metadata": {},
   "outputs": [
    {
     "data": {
      "text/plain": [
       "'def'"
      ]
     },
     "execution_count": 95,
     "metadata": {},
     "output_type": "execute_result"
    }
   ],
   "source": [
    "s = 'abcdefghijk'\n",
    "s[3:6]\n"
   ]
  },
  {
   "cell_type": "code",
   "execution_count": 77,
   "id": "978af32d-57b7-4094-b0fe-d4cad0d90fc6",
   "metadata": {},
   "outputs": [
    {
     "data": {
      "text/plain": [
       "'abcdefghijk'"
      ]
     },
     "execution_count": 77,
     "metadata": {},
     "output_type": "execute_result"
    }
   ],
   "source": [
    "s"
   ]
  },
  {
   "cell_type": "code",
   "execution_count": 103,
   "id": "a7adad2f-ed30-40d3-973d-9cd4c44a09bc",
   "metadata": {},
   "outputs": [],
   "source": [
    "my_list_num=[1,2,3,4,5]\n",
    "my_list_alp=['a','b','c']\n"
   ]
  },
  {
   "cell_type": "code",
   "execution_count": 105,
   "id": "99a7b075-8fd8-4b8b-b0d7-7fb78decd943",
   "metadata": {},
   "outputs": [],
   "source": [
    "my_list_alp.append('d')"
   ]
  },
  {
   "cell_type": "code",
   "execution_count": 113,
   "id": "16608de2-56f5-46e6-b09d-8e0cb9793e26",
   "metadata": {},
   "outputs": [
    {
     "data": {
      "text/plain": [
       "['hi', 'b', 'c', 'd']"
      ]
     },
     "execution_count": 113,
     "metadata": {},
     "output_type": "execute_result"
    }
   ],
   "source": [
    "my_list_alp"
   ]
  },
  {
   "cell_type": "code",
   "execution_count": 109,
   "id": "81a05c39-02b4-49bc-a17b-4bc648c933e5",
   "metadata": {},
   "outputs": [
    {
     "data": {
      "text/plain": [
       "['b', 'c']"
      ]
     },
     "execution_count": 109,
     "metadata": {},
     "output_type": "execute_result"
    }
   ],
   "source": [
    "my_list_alp[1:3]"
   ]
  },
  {
   "cell_type": "code",
   "execution_count": 111,
   "id": "7d709ddf-65f5-4a7b-8f5f-288e7f543c0d",
   "metadata": {},
   "outputs": [],
   "source": [
    "my_list_alp[0]=\"hi\""
   ]
  },
  {
   "cell_type": "code",
   "execution_count": 115,
   "id": "2939e191-9f5e-4dab-852e-e674eb844e33",
   "metadata": {},
   "outputs": [],
   "source": [
    "nest_list = [1,2,[3,4]]"
   ]
  },
  {
   "cell_type": "code",
   "execution_count": 119,
   "id": "66ce5224-92a7-4de0-a7f7-44f70390caae",
   "metadata": {},
   "outputs": [
    {
     "data": {
      "text/plain": [
       "[1, 2, [3, 4]]"
      ]
     },
     "execution_count": 119,
     "metadata": {},
     "output_type": "execute_result"
    }
   ],
   "source": [
    "nest_list"
   ]
  },
  {
   "cell_type": "code",
   "execution_count": 123,
   "id": "fc544904-9e20-4260-b697-a7f11bcc8f9c",
   "metadata": {},
   "outputs": [
    {
     "data": {
      "text/plain": [
       "4"
      ]
     },
     "execution_count": 123,
     "metadata": {},
     "output_type": "execute_result"
    }
   ],
   "source": [
    "nest_list[2][1]"
   ]
  },
  {
   "cell_type": "code",
   "execution_count": 125,
   "id": "d045afab-2f1d-4066-aac9-20333e453548",
   "metadata": {},
   "outputs": [],
   "source": [
    "nest = [1,2,3,[4,5,['target','not']]]"
   ]
  },
  {
   "cell_type": "code",
   "execution_count": 133,
   "id": "8dfbfe23-3a63-47f4-ac28-80eba2f88deb",
   "metadata": {},
   "outputs": [
    {
     "name": "stdout",
     "output_type": "stream",
     "text": [
      "not\n"
     ]
    }
   ],
   "source": [
    "print(nest[3][2][1])"
   ]
  },
  {
   "cell_type": "code",
   "execution_count": 135,
   "id": "997eaaab-c13f-49b3-bfb9-51e18890be1a",
   "metadata": {},
   "outputs": [],
   "source": [
    "d = {'key1':'value','key2':123}"
   ]
  },
  {
   "cell_type": "code",
   "execution_count": 150,
   "id": "ef6bdc6f-1936-41b7-87e3-b69c166617c9",
   "metadata": {},
   "outputs": [
    {
     "data": {
      "text/plain": [
       "[2, 3, 4]"
      ]
     },
     "execution_count": 150,
     "metadata": {},
     "output_type": "execute_result"
    }
   ],
   "source": [
    "d['k1']"
   ]
  },
  {
   "cell_type": "code",
   "execution_count": 144,
   "id": "c01b942d-ab3e-4d44-a64b-118cfa3b9b80",
   "metadata": {},
   "outputs": [],
   "source": [
    "d = {'k1':[2,3,4]}"
   ]
  },
  {
   "cell_type": "code",
   "execution_count": 152,
   "id": "eb65b441-a3ec-4be3-bc72-4f60aa744b18",
   "metadata": {},
   "outputs": [
    {
     "data": {
      "text/plain": [
       "2"
      ]
     },
     "execution_count": 152,
     "metadata": {},
     "output_type": "execute_result"
    }
   ],
   "source": [
    "my_list = d['k1']\n",
    "my_list[0]"
   ]
  },
  {
   "cell_type": "code",
   "execution_count": 158,
   "id": "e635e07a-5ada-4ba4-80ef-9d5240caa041",
   "metadata": {},
   "outputs": [
    {
     "data": {
      "text/plain": [
       "4"
      ]
     },
     "execution_count": 158,
     "metadata": {},
     "output_type": "execute_result"
    }
   ],
   "source": [
    "d['k1'][2]"
   ]
  },
  {
   "cell_type": "code",
   "execution_count": 160,
   "id": "4ee7fc67-8538-4db2-ad3e-3881ca29d53f",
   "metadata": {},
   "outputs": [
    {
     "data": {
      "text/plain": [
       "3"
      ]
     },
     "execution_count": 160,
     "metadata": {},
     "output_type": "execute_result"
    }
   ],
   "source": [
    "d = {'k1':{'innerkey':[1,2,3]}}\n",
    "d['k1']['innerkey'][2]"
   ]
  },
  {
   "cell_type": "code",
   "execution_count": 164,
   "id": "9073d2b7-465e-43f6-9c3e-3dc14f5202f7",
   "metadata": {},
   "outputs": [
    {
     "name": "stdout",
     "output_type": "stream",
     "text": [
      "[3, 2, 1, 4, 4]\n"
     ]
    }
   ],
   "source": [
    " hi = [3,2,1,4,4]\n",
    "print(hi)"
   ]
  },
  {
   "cell_type": "code",
   "execution_count": null,
   "id": "7eb0d2ab-e145-4e65-9e46-1c8ee9ea702f",
   "metadata": {},
   "outputs": [],
   "source": []
  }
 ],
 "metadata": {
  "kernelspec": {
   "display_name": "Python 3 (ipykernel)",
   "language": "python",
   "name": "python3"
  },
  "language_info": {
   "codemirror_mode": {
    "name": "ipython",
    "version": 3
   },
   "file_extension": ".py",
   "mimetype": "text/x-python",
   "name": "python",
   "nbconvert_exporter": "python",
   "pygments_lexer": "ipython3",
   "version": "3.11.7"
  }
 },
 "nbformat": 4,
 "nbformat_minor": 5
}
